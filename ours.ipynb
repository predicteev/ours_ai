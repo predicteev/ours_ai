{
  "nbformat": 4,
  "nbformat_minor": 0,
  "metadata": {
    "colab": {
      "name": "ours.ipynb",
      "provenance": []
    },
    "kernelspec": {
      "name": "python3",
      "display_name": "Python 3"
    },
    "language_info": {
      "name": "python"
    },
    "widgets": {
      "application/vnd.jupyter.widget-state+json": {
        "558b4867bda34630a7064171d3f62305": {
          "model_module": "@jupyter-widgets/controls",
          "model_name": "VBoxModel",
          "model_module_version": "1.5.0",
          "state": {
            "_view_name": "VBoxView",
            "_dom_classes": [],
            "_model_name": "VBoxModel",
            "_view_module": "@jupyter-widgets/controls",
            "_model_module_version": "1.5.0",
            "_view_count": null,
            "_view_module_version": "1.5.0",
            "box_style": "",
            "layout": "IPY_MODEL_f8d8b0aba6a542f395d8dfb98904f9af",
            "_model_module": "@jupyter-widgets/controls",
            "children": [
              "IPY_MODEL_0750f57eae9d44ed94a68a926d1a0f9b",
              "IPY_MODEL_dc2ce39b8c934fd0b27f508c0a630af5",
              "IPY_MODEL_98b1e568c910481b989f7ae768b2a581",
              "IPY_MODEL_f10471a6d65f466c82aa9285bcdafae5"
            ]
          }
        },
        "f8d8b0aba6a542f395d8dfb98904f9af": {
          "model_module": "@jupyter-widgets/base",
          "model_name": "LayoutModel",
          "model_module_version": "1.2.0",
          "state": {
            "_view_name": "LayoutView",
            "grid_template_rows": null,
            "right": null,
            "justify_content": null,
            "_view_module": "@jupyter-widgets/base",
            "overflow": null,
            "_model_module_version": "1.2.0",
            "_view_count": null,
            "flex_flow": null,
            "width": null,
            "min_width": null,
            "border": null,
            "align_items": null,
            "bottom": null,
            "_model_module": "@jupyter-widgets/base",
            "top": null,
            "grid_column": null,
            "overflow_y": null,
            "overflow_x": null,
            "grid_auto_flow": null,
            "grid_area": null,
            "grid_template_columns": null,
            "flex": null,
            "_model_name": "LayoutModel",
            "justify_items": null,
            "grid_row": null,
            "max_height": null,
            "align_content": null,
            "visibility": null,
            "align_self": null,
            "height": null,
            "min_height": null,
            "padding": null,
            "grid_auto_rows": null,
            "grid_gap": null,
            "max_width": null,
            "order": null,
            "_view_module_version": "1.2.0",
            "grid_template_areas": null,
            "object_position": null,
            "object_fit": null,
            "grid_auto_columns": null,
            "margin": null,
            "display": null,
            "left": null
          }
        },
        "0750f57eae9d44ed94a68a926d1a0f9b": {
          "model_module": "@jupyter-widgets/controls",
          "model_name": "LabelModel",
          "model_module_version": "1.5.0",
          "state": {
            "_view_name": "LabelView",
            "style": "IPY_MODEL_a13651d0bf8645289a9318613f0c2aeb",
            "_dom_classes": [],
            "description": "",
            "_model_name": "LabelModel",
            "placeholder": "​",
            "_view_module": "@jupyter-widgets/controls",
            "_model_module_version": "1.5.0",
            "value": "Select your bear :",
            "_view_count": null,
            "_view_module_version": "1.5.0",
            "description_tooltip": null,
            "_model_module": "@jupyter-widgets/controls",
            "layout": "IPY_MODEL_b17361aba20642bd92977c033dc3fbe1"
          }
        },
        "dc2ce39b8c934fd0b27f508c0a630af5": {
          "model_module": "@jupyter-widgets/controls",
          "model_name": "FileUploadModel",
          "model_module_version": "1.5.0",
          "state": {
            "_view_name": "FileUploadView",
            "_counter": 1,
            "style": "IPY_MODEL_0b44f5e072564557b16e76530112d70a",
            "_dom_classes": [],
            "description": "Upload",
            "multiple": false,
            "_model_name": "FileUploadModel",
            "data": [
              null
            ],
            "button_style": "",
            "_view_module": "@jupyter-widgets/controls",
            "_model_module_version": "1.5.0",
            "accept": "",
            "_view_count": null,
            "disabled": false,
            "_view_module_version": "1.5.0",
            "error": "",
            "description_tooltip": null,
            "metadata": [
              {
                "name": "00_teddy_bear.jpg",
                "type": "image/jpeg",
                "size": 19303,
                "lastModified": 1643706435266
              }
            ],
            "_model_module": "@jupyter-widgets/controls",
            "layout": "IPY_MODEL_0d9d02f97fe84008a29d2018ddbde4ea",
            "icon": "upload"
          }
        },
        "98b1e568c910481b989f7ae768b2a581": {
          "model_module": "@jupyter-widgets/output",
          "model_name": "OutputModel",
          "model_module_version": "1.0.0",
          "state": {
            "_view_name": "OutputView",
            "msg_id": "",
            "_dom_classes": [],
            "_model_name": "OutputModel",
            "outputs": [
              {
                "output_type": "display_data",
                "data": {
                  "image/png": "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\n",
                  "text/plain": "<PIL.Image.Image image mode=RGB size=174x224 at 0x7FF7B0C64ED0>"
                },
                "metadata": {}
              }
            ],
            "_view_module": "@jupyter-widgets/output",
            "_model_module_version": "1.0.0",
            "_view_count": null,
            "_view_module_version": "1.0.0",
            "layout": "IPY_MODEL_a1ac0c9f74af4d03bafec8f439d31a3e",
            "_model_module": "@jupyter-widgets/output"
          }
        },
        "f10471a6d65f466c82aa9285bcdafae5": {
          "model_module": "@jupyter-widgets/controls",
          "model_name": "LabelModel",
          "model_module_version": "1.5.0",
          "state": {
            "_view_name": "LabelView",
            "style": "IPY_MODEL_79926517136a4e36a2dc1c0db7164810",
            "_dom_classes": [],
            "description": "",
            "_model_name": "LabelModel",
            "placeholder": "​",
            "_view_module": "@jupyter-widgets/controls",
            "_model_module_version": "1.5.0",
            "value": "Pred: bear - Pred: 0.9994710087776184",
            "_view_count": null,
            "_view_module_version": "1.5.0",
            "description_tooltip": null,
            "_model_module": "@jupyter-widgets/controls",
            "layout": "IPY_MODEL_6ed3ae3a301346f4954d25fc66338d2c"
          }
        },
        "a13651d0bf8645289a9318613f0c2aeb": {
          "model_module": "@jupyter-widgets/controls",
          "model_name": "DescriptionStyleModel",
          "model_module_version": "1.5.0",
          "state": {
            "_view_name": "StyleView",
            "_model_name": "DescriptionStyleModel",
            "description_width": "",
            "_view_module": "@jupyter-widgets/base",
            "_model_module_version": "1.5.0",
            "_view_count": null,
            "_view_module_version": "1.2.0",
            "_model_module": "@jupyter-widgets/controls"
          }
        },
        "b17361aba20642bd92977c033dc3fbe1": {
          "model_module": "@jupyter-widgets/base",
          "model_name": "LayoutModel",
          "model_module_version": "1.2.0",
          "state": {
            "_view_name": "LayoutView",
            "grid_template_rows": null,
            "right": null,
            "justify_content": null,
            "_view_module": "@jupyter-widgets/base",
            "overflow": null,
            "_model_module_version": "1.2.0",
            "_view_count": null,
            "flex_flow": null,
            "width": null,
            "min_width": null,
            "border": null,
            "align_items": null,
            "bottom": null,
            "_model_module": "@jupyter-widgets/base",
            "top": null,
            "grid_column": null,
            "overflow_y": null,
            "overflow_x": null,
            "grid_auto_flow": null,
            "grid_area": null,
            "grid_template_columns": null,
            "flex": null,
            "_model_name": "LayoutModel",
            "justify_items": null,
            "grid_row": null,
            "max_height": null,
            "align_content": null,
            "visibility": null,
            "align_self": null,
            "height": null,
            "min_height": null,
            "padding": null,
            "grid_auto_rows": null,
            "grid_gap": null,
            "max_width": null,
            "order": null,
            "_view_module_version": "1.2.0",
            "grid_template_areas": null,
            "object_position": null,
            "object_fit": null,
            "grid_auto_columns": null,
            "margin": null,
            "display": null,
            "left": null
          }
        },
        "0b44f5e072564557b16e76530112d70a": {
          "model_module": "@jupyter-widgets/controls",
          "model_name": "ButtonStyleModel",
          "model_module_version": "1.5.0",
          "state": {
            "_view_name": "StyleView",
            "_model_name": "ButtonStyleModel",
            "_view_module": "@jupyter-widgets/base",
            "_model_module_version": "1.5.0",
            "_view_count": null,
            "button_color": null,
            "font_weight": "",
            "_view_module_version": "1.2.0",
            "_model_module": "@jupyter-widgets/controls"
          }
        },
        "0d9d02f97fe84008a29d2018ddbde4ea": {
          "model_module": "@jupyter-widgets/base",
          "model_name": "LayoutModel",
          "model_module_version": "1.2.0",
          "state": {
            "_view_name": "LayoutView",
            "grid_template_rows": null,
            "right": null,
            "justify_content": null,
            "_view_module": "@jupyter-widgets/base",
            "overflow": null,
            "_model_module_version": "1.2.0",
            "_view_count": null,
            "flex_flow": null,
            "width": null,
            "min_width": null,
            "border": null,
            "align_items": null,
            "bottom": null,
            "_model_module": "@jupyter-widgets/base",
            "top": null,
            "grid_column": null,
            "overflow_y": null,
            "overflow_x": null,
            "grid_auto_flow": null,
            "grid_area": null,
            "grid_template_columns": null,
            "flex": null,
            "_model_name": "LayoutModel",
            "justify_items": null,
            "grid_row": null,
            "max_height": null,
            "align_content": null,
            "visibility": null,
            "align_self": null,
            "height": null,
            "min_height": null,
            "padding": null,
            "grid_auto_rows": null,
            "grid_gap": null,
            "max_width": null,
            "order": null,
            "_view_module_version": "1.2.0",
            "grid_template_areas": null,
            "object_position": null,
            "object_fit": null,
            "grid_auto_columns": null,
            "margin": null,
            "display": null,
            "left": null
          }
        },
        "79926517136a4e36a2dc1c0db7164810": {
          "model_module": "@jupyter-widgets/controls",
          "model_name": "DescriptionStyleModel",
          "model_module_version": "1.5.0",
          "state": {
            "_view_name": "StyleView",
            "_model_name": "DescriptionStyleModel",
            "description_width": "",
            "_view_module": "@jupyter-widgets/base",
            "_model_module_version": "1.5.0",
            "_view_count": null,
            "_view_module_version": "1.2.0",
            "_model_module": "@jupyter-widgets/controls"
          }
        },
        "6ed3ae3a301346f4954d25fc66338d2c": {
          "model_module": "@jupyter-widgets/base",
          "model_name": "LayoutModel",
          "model_module_version": "1.2.0",
          "state": {
            "_view_name": "LayoutView",
            "grid_template_rows": null,
            "right": null,
            "justify_content": null,
            "_view_module": "@jupyter-widgets/base",
            "overflow": null,
            "_model_module_version": "1.2.0",
            "_view_count": null,
            "flex_flow": null,
            "width": null,
            "min_width": null,
            "border": null,
            "align_items": null,
            "bottom": null,
            "_model_module": "@jupyter-widgets/base",
            "top": null,
            "grid_column": null,
            "overflow_y": null,
            "overflow_x": null,
            "grid_auto_flow": null,
            "grid_area": null,
            "grid_template_columns": null,
            "flex": null,
            "_model_name": "LayoutModel",
            "justify_items": null,
            "grid_row": null,
            "max_height": null,
            "align_content": null,
            "visibility": null,
            "align_self": null,
            "height": null,
            "min_height": null,
            "padding": null,
            "grid_auto_rows": null,
            "grid_gap": null,
            "max_width": null,
            "order": null,
            "_view_module_version": "1.2.0",
            "grid_template_areas": null,
            "object_position": null,
            "object_fit": null,
            "grid_auto_columns": null,
            "margin": null,
            "display": null,
            "left": null
          }
        },
        "a1ac0c9f74af4d03bafec8f439d31a3e": {
          "model_module": "@jupyter-widgets/base",
          "model_name": "LayoutModel",
          "model_module_version": "1.2.0",
          "state": {
            "_view_name": "LayoutView",
            "grid_template_rows": null,
            "right": null,
            "justify_content": null,
            "_view_module": "@jupyter-widgets/base",
            "overflow": null,
            "_model_module_version": "1.2.0",
            "_view_count": null,
            "flex_flow": null,
            "width": null,
            "min_width": null,
            "border": null,
            "align_items": null,
            "bottom": null,
            "_model_module": "@jupyter-widgets/base",
            "top": null,
            "grid_column": null,
            "overflow_y": null,
            "overflow_x": null,
            "grid_auto_flow": null,
            "grid_area": null,
            "grid_template_columns": null,
            "flex": null,
            "_model_name": "LayoutModel",
            "justify_items": null,
            "grid_row": null,
            "max_height": null,
            "align_content": null,
            "visibility": null,
            "align_self": null,
            "height": null,
            "min_height": null,
            "padding": null,
            "grid_auto_rows": null,
            "grid_gap": null,
            "max_width": null,
            "order": null,
            "_view_module_version": "1.2.0",
            "grid_template_areas": null,
            "object_position": null,
            "object_fit": null,
            "grid_auto_columns": null,
            "margin": null,
            "display": null,
            "left": null
          }
        }
      }
    }
  },
  "cells": [
    {
      "cell_type": "code",
      "execution_count": 1,
      "metadata": {
        "colab": {
          "base_uri": "https://localhost:8080/",
          "height": 1000
        },
        "id": "VKSMtiq4Zxd_",
        "outputId": "5ca80275-05be-4eb7-9a5d-ccd59188b2ca"
      },
      "outputs": [
        {
          "output_type": "stream",
          "name": "stdout",
          "text": [
            "Requirement already satisfied: fastbook in /usr/local/lib/python3.7/dist-packages (0.0.18)\n",
            "Requirement already satisfied: sentencepiece in /usr/local/lib/python3.7/dist-packages (from fastbook) (0.1.96)\n",
            "Requirement already satisfied: requests in /usr/local/lib/python3.7/dist-packages (from fastbook) (2.23.0)\n",
            "Requirement already satisfied: fastai>=2.5 in /usr/local/lib/python3.7/dist-packages (from fastbook) (2.5.3)\n",
            "Requirement already satisfied: nbdev>=0.2.38 in /usr/local/lib/python3.7/dist-packages (from fastbook) (1.1.23)\n",
            "Requirement already satisfied: ipywidgets in /usr/local/lib/python3.7/dist-packages (from fastbook) (7.6.5)\n",
            "Requirement already satisfied: pip in /usr/local/lib/python3.7/dist-packages (from fastbook) (21.1.3)\n",
            "Requirement already satisfied: packaging in /usr/local/lib/python3.7/dist-packages (from fastbook) (21.3)\n",
            "Requirement already satisfied: pandas in /usr/local/lib/python3.7/dist-packages (from fastbook) (1.3.5)\n",
            "Requirement already satisfied: matplotlib in /usr/local/lib/python3.7/dist-packages (from fastai>=2.5->fastbook) (3.2.2)\n",
            "Requirement already satisfied: pyyaml in /usr/local/lib/python3.7/dist-packages (from fastai>=2.5->fastbook) (3.13)\n",
            "Requirement already satisfied: fastdownload<2,>=0.0.5 in /usr/local/lib/python3.7/dist-packages (from fastai>=2.5->fastbook) (0.0.5)\n",
            "Requirement already satisfied: scipy in /usr/local/lib/python3.7/dist-packages (from fastai>=2.5->fastbook) (1.4.1)\n",
            "Requirement already satisfied: pillow>6.0.0 in /usr/local/lib/python3.7/dist-packages (from fastai>=2.5->fastbook) (7.1.2)\n",
            "Requirement already satisfied: torch<1.11,>=1.7.0 in /usr/local/lib/python3.7/dist-packages (from fastai>=2.5->fastbook) (1.10.0+cu111)\n",
            "Requirement already satisfied: fastcore<1.4,>=1.3.22 in /usr/local/lib/python3.7/dist-packages (from fastai>=2.5->fastbook) (1.3.27)\n",
            "Requirement already satisfied: spacy<4 in /usr/local/lib/python3.7/dist-packages (from fastai>=2.5->fastbook) (2.2.4)\n",
            "Requirement already satisfied: scikit-learn in /usr/local/lib/python3.7/dist-packages (from fastai>=2.5->fastbook) (1.0.2)\n",
            "Requirement already satisfied: fastprogress>=0.2.4 in /usr/local/lib/python3.7/dist-packages (from fastai>=2.5->fastbook) (1.0.0)\n",
            "Requirement already satisfied: torchvision>=0.8.2 in /usr/local/lib/python3.7/dist-packages (from fastai>=2.5->fastbook) (0.11.1+cu111)\n",
            "Requirement already satisfied: numpy in /usr/local/lib/python3.7/dist-packages (from fastprogress>=0.2.4->fastai>=2.5->fastbook) (1.19.5)\n",
            "Requirement already satisfied: ipykernel in /usr/local/lib/python3.7/dist-packages (from nbdev>=0.2.38->fastbook) (4.10.1)\n",
            "Requirement already satisfied: jupyter in /usr/local/lib/python3.7/dist-packages (from nbdev>=0.2.38->fastbook) (1.0.0)\n",
            "Collecting jupyter-client<7.0\n",
            "  Downloading jupyter_client-6.1.12-py3-none-any.whl (112 kB)\n",
            "\u001b[K     |████████████████████████████████| 112 kB 8.2 MB/s \n",
            "\u001b[?25hRequirement already satisfied: fastrelease in /usr/local/lib/python3.7/dist-packages (from nbdev>=0.2.38->fastbook) (0.1.12)\n",
            "Requirement already satisfied: ghapi in /usr/local/lib/python3.7/dist-packages (from nbdev>=0.2.38->fastbook) (0.1.19)\n",
            "Collecting nbconvert<6\n",
            "  Downloading nbconvert-5.6.1-py2.py3-none-any.whl (455 kB)\n",
            "\u001b[K     |████████████████████████████████| 455 kB 53.6 MB/s \n",
            "\u001b[?25hRequirement already satisfied: nbformat>=4.4.0 in /usr/local/lib/python3.7/dist-packages (from nbdev>=0.2.38->fastbook) (5.1.3)\n",
            "Requirement already satisfied: traitlets in /usr/local/lib/python3.7/dist-packages (from jupyter-client<7.0->nbdev>=0.2.38->fastbook) (5.1.1)\n",
            "Requirement already satisfied: pyzmq>=13 in /usr/local/lib/python3.7/dist-packages (from jupyter-client<7.0->nbdev>=0.2.38->fastbook) (22.3.0)\n",
            "Requirement already satisfied: python-dateutil>=2.1 in /usr/local/lib/python3.7/dist-packages (from jupyter-client<7.0->nbdev>=0.2.38->fastbook) (2.8.2)\n",
            "Requirement already satisfied: tornado>=4.1 in /usr/local/lib/python3.7/dist-packages (from jupyter-client<7.0->nbdev>=0.2.38->fastbook) (6.1)\n",
            "Requirement already satisfied: jupyter-core>=4.6.0 in /usr/local/lib/python3.7/dist-packages (from jupyter-client<7.0->nbdev>=0.2.38->fastbook) (4.9.1)\n",
            "Requirement already satisfied: bleach in /usr/local/lib/python3.7/dist-packages (from nbconvert<6->nbdev>=0.2.38->fastbook) (4.1.0)\n",
            "Requirement already satisfied: entrypoints>=0.2.2 in /usr/local/lib/python3.7/dist-packages (from nbconvert<6->nbdev>=0.2.38->fastbook) (0.4)\n",
            "Requirement already satisfied: pygments in /usr/local/lib/python3.7/dist-packages (from nbconvert<6->nbdev>=0.2.38->fastbook) (2.6.1)\n",
            "Requirement already satisfied: testpath in /usr/local/lib/python3.7/dist-packages (from nbconvert<6->nbdev>=0.2.38->fastbook) (0.5.0)\n",
            "Requirement already satisfied: jinja2>=2.4 in /usr/local/lib/python3.7/dist-packages (from nbconvert<6->nbdev>=0.2.38->fastbook) (2.11.3)\n",
            "Requirement already satisfied: mistune<2,>=0.8.1 in /usr/local/lib/python3.7/dist-packages (from nbconvert<6->nbdev>=0.2.38->fastbook) (0.8.4)\n",
            "Requirement already satisfied: defusedxml in /usr/local/lib/python3.7/dist-packages (from nbconvert<6->nbdev>=0.2.38->fastbook) (0.7.1)\n",
            "Requirement already satisfied: pandocfilters>=1.4.1 in /usr/local/lib/python3.7/dist-packages (from nbconvert<6->nbdev>=0.2.38->fastbook) (1.5.0)\n",
            "Requirement already satisfied: MarkupSafe>=0.23 in /usr/local/lib/python3.7/dist-packages (from jinja2>=2.4->nbconvert<6->nbdev>=0.2.38->fastbook) (2.0.1)\n",
            "Requirement already satisfied: jsonschema!=2.5.0,>=2.4 in /usr/local/lib/python3.7/dist-packages (from nbformat>=4.4.0->nbdev>=0.2.38->fastbook) (4.3.3)\n",
            "Requirement already satisfied: ipython-genutils in /usr/local/lib/python3.7/dist-packages (from nbformat>=4.4.0->nbdev>=0.2.38->fastbook) (0.2.0)\n",
            "Requirement already satisfied: importlib-resources>=1.4.0 in /usr/local/lib/python3.7/dist-packages (from jsonschema!=2.5.0,>=2.4->nbformat>=4.4.0->nbdev>=0.2.38->fastbook) (5.4.0)\n",
            "Requirement already satisfied: attrs>=17.4.0 in /usr/local/lib/python3.7/dist-packages (from jsonschema!=2.5.0,>=2.4->nbformat>=4.4.0->nbdev>=0.2.38->fastbook) (21.4.0)\n",
            "Requirement already satisfied: typing-extensions in /usr/local/lib/python3.7/dist-packages (from jsonschema!=2.5.0,>=2.4->nbformat>=4.4.0->nbdev>=0.2.38->fastbook) (3.10.0.2)\n",
            "Requirement already satisfied: importlib-metadata in /usr/local/lib/python3.7/dist-packages (from jsonschema!=2.5.0,>=2.4->nbformat>=4.4.0->nbdev>=0.2.38->fastbook) (4.10.1)\n",
            "Requirement already satisfied: pyrsistent!=0.17.0,!=0.17.1,!=0.17.2,>=0.14.0 in /usr/local/lib/python3.7/dist-packages (from jsonschema!=2.5.0,>=2.4->nbformat>=4.4.0->nbdev>=0.2.38->fastbook) (0.18.1)\n",
            "Requirement already satisfied: zipp>=3.1.0 in /usr/local/lib/python3.7/dist-packages (from importlib-resources>=1.4.0->jsonschema!=2.5.0,>=2.4->nbformat>=4.4.0->nbdev>=0.2.38->fastbook) (3.7.0)\n",
            "Requirement already satisfied: six>=1.5 in /usr/local/lib/python3.7/dist-packages (from python-dateutil>=2.1->jupyter-client<7.0->nbdev>=0.2.38->fastbook) (1.15.0)\n",
            "Requirement already satisfied: setuptools in /usr/local/lib/python3.7/dist-packages (from spacy<4->fastai>=2.5->fastbook) (57.4.0)\n",
            "Requirement already satisfied: wasabi<1.1.0,>=0.4.0 in /usr/local/lib/python3.7/dist-packages (from spacy<4->fastai>=2.5->fastbook) (0.9.0)\n",
            "Requirement already satisfied: plac<1.2.0,>=0.9.6 in /usr/local/lib/python3.7/dist-packages (from spacy<4->fastai>=2.5->fastbook) (1.1.3)\n",
            "Requirement already satisfied: srsly<1.1.0,>=1.0.2 in /usr/local/lib/python3.7/dist-packages (from spacy<4->fastai>=2.5->fastbook) (1.0.5)\n",
            "Requirement already satisfied: blis<0.5.0,>=0.4.0 in /usr/local/lib/python3.7/dist-packages (from spacy<4->fastai>=2.5->fastbook) (0.4.1)\n",
            "Requirement already satisfied: catalogue<1.1.0,>=0.0.7 in /usr/local/lib/python3.7/dist-packages (from spacy<4->fastai>=2.5->fastbook) (1.0.0)\n",
            "Requirement already satisfied: preshed<3.1.0,>=3.0.2 in /usr/local/lib/python3.7/dist-packages (from spacy<4->fastai>=2.5->fastbook) (3.0.6)\n",
            "Requirement already satisfied: murmurhash<1.1.0,>=0.28.0 in /usr/local/lib/python3.7/dist-packages (from spacy<4->fastai>=2.5->fastbook) (1.0.6)\n",
            "Requirement already satisfied: cymem<2.1.0,>=2.0.2 in /usr/local/lib/python3.7/dist-packages (from spacy<4->fastai>=2.5->fastbook) (2.0.6)\n",
            "Requirement already satisfied: tqdm<5.0.0,>=4.38.0 in /usr/local/lib/python3.7/dist-packages (from spacy<4->fastai>=2.5->fastbook) (4.62.3)\n",
            "Requirement already satisfied: thinc==7.4.0 in /usr/local/lib/python3.7/dist-packages (from spacy<4->fastai>=2.5->fastbook) (7.4.0)\n",
            "Requirement already satisfied: urllib3!=1.25.0,!=1.25.1,<1.26,>=1.21.1 in /usr/local/lib/python3.7/dist-packages (from requests->fastbook) (1.24.3)\n",
            "Requirement already satisfied: certifi>=2017.4.17 in /usr/local/lib/python3.7/dist-packages (from requests->fastbook) (2021.10.8)\n",
            "Requirement already satisfied: idna<3,>=2.5 in /usr/local/lib/python3.7/dist-packages (from requests->fastbook) (2.10)\n",
            "Requirement already satisfied: chardet<4,>=3.0.2 in /usr/local/lib/python3.7/dist-packages (from requests->fastbook) (3.0.4)\n",
            "Requirement already satisfied: webencodings in /usr/local/lib/python3.7/dist-packages (from bleach->nbconvert<6->nbdev>=0.2.38->fastbook) (0.5.1)\n",
            "Requirement already satisfied: ipython>=4.0.0 in /usr/local/lib/python3.7/dist-packages (from ipykernel->nbdev>=0.2.38->fastbook) (5.5.0)\n",
            "Requirement already satisfied: simplegeneric>0.8 in /usr/local/lib/python3.7/dist-packages (from ipython>=4.0.0->ipykernel->nbdev>=0.2.38->fastbook) (0.8.1)\n",
            "Requirement already satisfied: pickleshare in /usr/local/lib/python3.7/dist-packages (from ipython>=4.0.0->ipykernel->nbdev>=0.2.38->fastbook) (0.7.5)\n",
            "Requirement already satisfied: pexpect in /usr/local/lib/python3.7/dist-packages (from ipython>=4.0.0->ipykernel->nbdev>=0.2.38->fastbook) (4.8.0)\n",
            "Requirement already satisfied: decorator in /usr/local/lib/python3.7/dist-packages (from ipython>=4.0.0->ipykernel->nbdev>=0.2.38->fastbook) (4.4.2)\n",
            "Requirement already satisfied: prompt-toolkit<2.0.0,>=1.0.4 in /usr/local/lib/python3.7/dist-packages (from ipython>=4.0.0->ipykernel->nbdev>=0.2.38->fastbook) (1.0.18)\n",
            "Requirement already satisfied: wcwidth in /usr/local/lib/python3.7/dist-packages (from prompt-toolkit<2.0.0,>=1.0.4->ipython>=4.0.0->ipykernel->nbdev>=0.2.38->fastbook) (0.2.5)\n",
            "Requirement already satisfied: jupyterlab-widgets>=1.0.0 in /usr/local/lib/python3.7/dist-packages (from ipywidgets->fastbook) (1.0.2)\n",
            "Requirement already satisfied: widgetsnbextension~=3.5.0 in /usr/local/lib/python3.7/dist-packages (from ipywidgets->fastbook) (3.5.2)\n",
            "Requirement already satisfied: notebook>=4.4.1 in /usr/local/lib/python3.7/dist-packages (from widgetsnbextension~=3.5.0->ipywidgets->fastbook) (5.3.1)\n",
            "Requirement already satisfied: Send2Trash in /usr/local/lib/python3.7/dist-packages (from notebook>=4.4.1->widgetsnbextension~=3.5.0->ipywidgets->fastbook) (1.8.0)\n",
            "Requirement already satisfied: terminado>=0.8.1 in /usr/local/lib/python3.7/dist-packages (from notebook>=4.4.1->widgetsnbextension~=3.5.0->ipywidgets->fastbook) (0.13.1)\n",
            "Requirement already satisfied: ptyprocess in /usr/local/lib/python3.7/dist-packages (from terminado>=0.8.1->notebook>=4.4.1->widgetsnbextension~=3.5.0->ipywidgets->fastbook) (0.7.0)\n",
            "Requirement already satisfied: qtconsole in /usr/local/lib/python3.7/dist-packages (from jupyter->nbdev>=0.2.38->fastbook) (5.2.2)\n",
            "Requirement already satisfied: jupyter-console in /usr/local/lib/python3.7/dist-packages (from jupyter->nbdev>=0.2.38->fastbook) (5.2.0)\n",
            "Requirement already satisfied: kiwisolver>=1.0.1 in /usr/local/lib/python3.7/dist-packages (from matplotlib->fastai>=2.5->fastbook) (1.3.2)\n",
            "Requirement already satisfied: pyparsing!=2.0.4,!=2.1.2,!=2.1.6,>=2.0.1 in /usr/local/lib/python3.7/dist-packages (from matplotlib->fastai>=2.5->fastbook) (3.0.7)\n",
            "Requirement already satisfied: cycler>=0.10 in /usr/local/lib/python3.7/dist-packages (from matplotlib->fastai>=2.5->fastbook) (0.11.0)\n",
            "Requirement already satisfied: pytz>=2017.3 in /usr/local/lib/python3.7/dist-packages (from pandas->fastbook) (2018.9)\n",
            "Requirement already satisfied: qtpy in /usr/local/lib/python3.7/dist-packages (from qtconsole->jupyter->nbdev>=0.2.38->fastbook) (2.0.1)\n",
            "Requirement already satisfied: threadpoolctl>=2.0.0 in /usr/local/lib/python3.7/dist-packages (from scikit-learn->fastai>=2.5->fastbook) (3.1.0)\n",
            "Requirement already satisfied: joblib>=0.11 in /usr/local/lib/python3.7/dist-packages (from scikit-learn->fastai>=2.5->fastbook) (1.1.0)\n",
            "Installing collected packages: jupyter-client, nbconvert\n",
            "  Attempting uninstall: jupyter-client\n",
            "    Found existing installation: jupyter-client 7.1.2\n",
            "    Uninstalling jupyter-client-7.1.2:\n",
            "      Successfully uninstalled jupyter-client-7.1.2\n",
            "  Attempting uninstall: nbconvert\n",
            "    Found existing installation: nbconvert 6.4.1\n",
            "    Uninstalling nbconvert-6.4.1:\n",
            "      Successfully uninstalled nbconvert-6.4.1\n",
            "\u001b[31mERROR: pip's dependency resolver does not currently take into account all the packages that are installed. This behaviour is the source of the following dependency conflicts.\n",
            "voila 0.3.1 requires nbconvert<7,>=6.0.0, but you have nbconvert 5.6.1 which is incompatible.\n",
            "google-colab 1.0.0 requires tornado~=5.1.0; python_version >= \"3.0\", but you have tornado 6.1 which is incompatible.\u001b[0m\n",
            "Successfully installed jupyter-client-6.1.12 nbconvert-5.6.1\n"
          ]
        },
        {
          "output_type": "display_data",
          "data": {
            "application/vnd.colab-display-data+json": {
              "pip_warning": {
                "packages": [
                  "jupyter_client"
                ]
              }
            }
          },
          "metadata": {}
        }
      ],
      "source": [
        "!pip install fastbook"
      ]
    },
    {
      "cell_type": "code",
      "source": [
        "!pip install voila"
      ],
      "metadata": {
        "colab": {
          "base_uri": "https://localhost:8080/"
        },
        "id": "H6szr7RHZz9D",
        "outputId": "f284a685-6ea7-4659-a95a-c3dd55516e2d"
      },
      "execution_count": 2,
      "outputs": [
        {
          "output_type": "stream",
          "name": "stdout",
          "text": [
            "Requirement already satisfied: voila in /usr/local/lib/python3.7/dist-packages (0.3.1)\n",
            "Requirement already satisfied: jupyter-client<8,>=6.1.3 in /usr/local/lib/python3.7/dist-packages (from voila) (6.1.12)\n",
            "Requirement already satisfied: websockets>=9.0 in /usr/local/lib/python3.7/dist-packages (from voila) (10.1)\n",
            "Requirement already satisfied: jupyter-server<2.0.0,>=0.3.0 in /usr/local/lib/python3.7/dist-packages (from voila) (1.13.5)\n",
            "Requirement already satisfied: nbclient<0.6,>=0.4.0 in /usr/local/lib/python3.7/dist-packages (from voila) (0.5.10)\n",
            "Requirement already satisfied: traitlets<6,>=5.0.3 in /usr/local/lib/python3.7/dist-packages (from voila) (5.1.1)\n",
            "Collecting nbconvert<7,>=6.0.0\n",
            "  Using cached nbconvert-6.4.1-py3-none-any.whl (557 kB)\n",
            "Requirement already satisfied: pyzmq>=13 in /usr/local/lib/python3.7/dist-packages (from jupyter-client<8,>=6.1.3->voila) (22.3.0)\n",
            "Requirement already satisfied: tornado>=4.1 in /usr/local/lib/python3.7/dist-packages (from jupyter-client<8,>=6.1.3->voila) (6.1)\n",
            "Requirement already satisfied: jupyter-core>=4.6.0 in /usr/local/lib/python3.7/dist-packages (from jupyter-client<8,>=6.1.3->voila) (4.9.1)\n",
            "Requirement already satisfied: python-dateutil>=2.1 in /usr/local/lib/python3.7/dist-packages (from jupyter-client<8,>=6.1.3->voila) (2.8.2)\n",
            "Requirement already satisfied: prometheus-client in /usr/local/lib/python3.7/dist-packages (from jupyter-server<2.0.0,>=0.3.0->voila) (0.13.1)\n",
            "Requirement already satisfied: packaging in /usr/local/lib/python3.7/dist-packages (from jupyter-server<2.0.0,>=0.3.0->voila) (21.3)\n",
            "Requirement already satisfied: ipython-genutils in /usr/local/lib/python3.7/dist-packages (from jupyter-server<2.0.0,>=0.3.0->voila) (0.2.0)\n",
            "Requirement already satisfied: nbformat in /usr/local/lib/python3.7/dist-packages (from jupyter-server<2.0.0,>=0.3.0->voila) (5.1.3)\n",
            "Requirement already satisfied: jinja2 in /usr/local/lib/python3.7/dist-packages (from jupyter-server<2.0.0,>=0.3.0->voila) (2.11.3)\n",
            "Requirement already satisfied: argon2-cffi in /usr/local/lib/python3.7/dist-packages (from jupyter-server<2.0.0,>=0.3.0->voila) (21.3.0)\n",
            "Requirement already satisfied: anyio<4,>=3.1.0 in /usr/local/lib/python3.7/dist-packages (from jupyter-server<2.0.0,>=0.3.0->voila) (3.5.0)\n",
            "Requirement already satisfied: terminado>=0.8.3 in /usr/local/lib/python3.7/dist-packages (from jupyter-server<2.0.0,>=0.3.0->voila) (0.13.1)\n",
            "Requirement already satisfied: Send2Trash in /usr/local/lib/python3.7/dist-packages (from jupyter-server<2.0.0,>=0.3.0->voila) (1.8.0)\n",
            "Requirement already satisfied: websocket-client in /usr/local/lib/python3.7/dist-packages (from jupyter-server<2.0.0,>=0.3.0->voila) (1.2.3)\n",
            "Requirement already satisfied: sniffio>=1.1 in /usr/local/lib/python3.7/dist-packages (from anyio<4,>=3.1.0->jupyter-server<2.0.0,>=0.3.0->voila) (1.2.0)\n",
            "Requirement already satisfied: idna>=2.8 in /usr/local/lib/python3.7/dist-packages (from anyio<4,>=3.1.0->jupyter-server<2.0.0,>=0.3.0->voila) (2.10)\n",
            "Requirement already satisfied: typing-extensions in /usr/local/lib/python3.7/dist-packages (from anyio<4,>=3.1.0->jupyter-server<2.0.0,>=0.3.0->voila) (3.10.0.2)\n",
            "Requirement already satisfied: nest-asyncio in /usr/local/lib/python3.7/dist-packages (from nbclient<0.6,>=0.4.0->voila) (1.5.4)\n",
            "Requirement already satisfied: testpath in /usr/local/lib/python3.7/dist-packages (from nbconvert<7,>=6.0.0->voila) (0.5.0)\n",
            "Requirement already satisfied: jupyterlab-pygments in /usr/local/lib/python3.7/dist-packages (from nbconvert<7,>=6.0.0->voila) (0.1.2)\n",
            "Requirement already satisfied: bleach in /usr/local/lib/python3.7/dist-packages (from nbconvert<7,>=6.0.0->voila) (4.1.0)\n",
            "Requirement already satisfied: defusedxml in /usr/local/lib/python3.7/dist-packages (from nbconvert<7,>=6.0.0->voila) (0.7.1)\n",
            "Requirement already satisfied: entrypoints>=0.2.2 in /usr/local/lib/python3.7/dist-packages (from nbconvert<7,>=6.0.0->voila) (0.4)\n",
            "Requirement already satisfied: mistune<2,>=0.8.1 in /usr/local/lib/python3.7/dist-packages (from nbconvert<7,>=6.0.0->voila) (0.8.4)\n",
            "Requirement already satisfied: pandocfilters>=1.4.1 in /usr/local/lib/python3.7/dist-packages (from nbconvert<7,>=6.0.0->voila) (1.5.0)\n",
            "Requirement already satisfied: pygments>=2.4.1 in /usr/local/lib/python3.7/dist-packages (from nbconvert<7,>=6.0.0->voila) (2.6.1)\n",
            "Requirement already satisfied: MarkupSafe>=0.23 in /usr/local/lib/python3.7/dist-packages (from jinja2->jupyter-server<2.0.0,>=0.3.0->voila) (2.0.1)\n",
            "Requirement already satisfied: jsonschema!=2.5.0,>=2.4 in /usr/local/lib/python3.7/dist-packages (from nbformat->jupyter-server<2.0.0,>=0.3.0->voila) (4.3.3)\n",
            "Requirement already satisfied: pyrsistent!=0.17.0,!=0.17.1,!=0.17.2,>=0.14.0 in /usr/local/lib/python3.7/dist-packages (from jsonschema!=2.5.0,>=2.4->nbformat->jupyter-server<2.0.0,>=0.3.0->voila) (0.18.1)\n",
            "Requirement already satisfied: importlib-metadata in /usr/local/lib/python3.7/dist-packages (from jsonschema!=2.5.0,>=2.4->nbformat->jupyter-server<2.0.0,>=0.3.0->voila) (4.10.1)\n",
            "Requirement already satisfied: attrs>=17.4.0 in /usr/local/lib/python3.7/dist-packages (from jsonschema!=2.5.0,>=2.4->nbformat->jupyter-server<2.0.0,>=0.3.0->voila) (21.4.0)\n",
            "Requirement already satisfied: importlib-resources>=1.4.0 in /usr/local/lib/python3.7/dist-packages (from jsonschema!=2.5.0,>=2.4->nbformat->jupyter-server<2.0.0,>=0.3.0->voila) (5.4.0)\n",
            "Requirement already satisfied: zipp>=3.1.0 in /usr/local/lib/python3.7/dist-packages (from importlib-resources>=1.4.0->jsonschema!=2.5.0,>=2.4->nbformat->jupyter-server<2.0.0,>=0.3.0->voila) (3.7.0)\n",
            "Requirement already satisfied: six>=1.5 in /usr/local/lib/python3.7/dist-packages (from python-dateutil>=2.1->jupyter-client<8,>=6.1.3->voila) (1.15.0)\n",
            "Requirement already satisfied: ptyprocess in /usr/local/lib/python3.7/dist-packages (from terminado>=0.8.3->jupyter-server<2.0.0,>=0.3.0->voila) (0.7.0)\n",
            "Requirement already satisfied: argon2-cffi-bindings in /usr/local/lib/python3.7/dist-packages (from argon2-cffi->jupyter-server<2.0.0,>=0.3.0->voila) (21.2.0)\n",
            "Requirement already satisfied: cffi>=1.0.1 in /usr/local/lib/python3.7/dist-packages (from argon2-cffi-bindings->argon2-cffi->jupyter-server<2.0.0,>=0.3.0->voila) (1.15.0)\n",
            "Requirement already satisfied: pycparser in /usr/local/lib/python3.7/dist-packages (from cffi>=1.0.1->argon2-cffi-bindings->argon2-cffi->jupyter-server<2.0.0,>=0.3.0->voila) (2.21)\n",
            "Requirement already satisfied: webencodings in /usr/local/lib/python3.7/dist-packages (from bleach->nbconvert<7,>=6.0.0->voila) (0.5.1)\n",
            "Requirement already satisfied: pyparsing!=3.0.5,>=2.0.2 in /usr/local/lib/python3.7/dist-packages (from packaging->jupyter-server<2.0.0,>=0.3.0->voila) (3.0.7)\n",
            "Installing collected packages: nbconvert\n",
            "  Attempting uninstall: nbconvert\n",
            "    Found existing installation: nbconvert 5.6.1\n",
            "    Uninstalling nbconvert-5.6.1:\n",
            "      Successfully uninstalled nbconvert-5.6.1\n",
            "\u001b[31mERROR: pip's dependency resolver does not currently take into account all the packages that are installed. This behaviour is the source of the following dependency conflicts.\n",
            "nbdev 1.1.23 requires nbconvert<6, but you have nbconvert 6.4.1 which is incompatible.\n",
            "google-colab 1.0.0 requires tornado~=5.1.0; python_version >= \"3.0\", but you have tornado 6.1 which is incompatible.\u001b[0m\n",
            "Successfully installed nbconvert-6.4.1\n"
          ]
        }
      ]
    },
    {
      "cell_type": "code",
      "source": [
        "from pathlib import Path\n",
        "import ipywidgets as widgets\n",
        "from fastai.vision.all import *\n",
        "from fastai.vision.widgets import*"
      ],
      "metadata": {
        "id": "aL5DI3EhZ8Ad"
      },
      "execution_count": 6,
      "outputs": []
    },
    {
      "cell_type": "code",
      "source": [
        "def label_func(fname):\n",
        "    if \"grizzly\"  in fname.parent.name:\n",
        "      return \"grizzly\"\n",
        "    elif \"black\" in fname.parent.name:\n",
        "      return \"black\"\n",
        "    else:\n",
        "      return \"bear\""
      ],
      "metadata": {
        "id": "H_yaA-macJXS"
      },
      "execution_count": 7,
      "outputs": []
    },
    {
      "cell_type": "code",
      "source": [
        "path = Path()\n",
        "btn_upload = widgets.FileUpload()\n",
        "out_pl = widgets.Output()\n",
        "lbl_pred = widgets.Label()\n",
        "learn = load_learner(\"/content/bearifier_.pkl\")"
      ],
      "metadata": {
        "id": "kZFxgEqkaJoL"
      },
      "execution_count": 8,
      "outputs": []
    },
    {
      "cell_type": "code",
      "source": [
        "def on_data_change(change):\n",
        "  lbl_pred.value = ''\n",
        "  img = PILImage.create(btn_upload.data[-1])\n",
        "  out_pl.clear_output()\n",
        "  with out_pl:\n",
        "    display(img.to_thumb(224,224))\n",
        "\n",
        "  pred, pred_idx, probs = learn.predict(img)\n",
        "  lbl_pred.value = f'Pred: {pred} - Pred: {probs[pred_idx]}'\n",
        "  return(lbl_pred.value)"
      ],
      "metadata": {
        "id": "weFSkYvkZ8vN"
      },
      "execution_count": 9,
      "outputs": []
    },
    {
      "cell_type": "code",
      "source": [
        "btn_upload.observe(on_data_change, names=['data'])\n",
        "# display Predictions\n",
        "display(VBox([widgets.Label('Select your bear :'), btn_upload, out_pl, lbl_pred]))"
      ],
      "metadata": {
        "colab": {
          "base_uri": "https://localhost:8080/",
          "height": 337,
          "referenced_widgets": [
            "558b4867bda34630a7064171d3f62305",
            "f8d8b0aba6a542f395d8dfb98904f9af",
            "0750f57eae9d44ed94a68a926d1a0f9b",
            "dc2ce39b8c934fd0b27f508c0a630af5",
            "98b1e568c910481b989f7ae768b2a581",
            "f10471a6d65f466c82aa9285bcdafae5",
            "a13651d0bf8645289a9318613f0c2aeb",
            "b17361aba20642bd92977c033dc3fbe1",
            "0b44f5e072564557b16e76530112d70a",
            "0d9d02f97fe84008a29d2018ddbde4ea",
            "79926517136a4e36a2dc1c0db7164810",
            "6ed3ae3a301346f4954d25fc66338d2c",
            "a1ac0c9f74af4d03bafec8f439d31a3e"
          ]
        },
        "id": "5lF9pwD0aAAQ",
        "outputId": "4326dd49-ddcc-4d06-a843-e81c6985dda2"
      },
      "execution_count": 10,
      "outputs": [
        {
          "output_type": "display_data",
          "data": {
            "application/vnd.jupyter.widget-view+json": {
              "model_id": "558b4867bda34630a7064171d3f62305",
              "version_minor": 0,
              "version_major": 2
            },
            "text/plain": [
              "VBox(children=(Label(value='Select your bear :'), FileUpload(value={}, description='Upload'), Output(), Label(…"
            ]
          },
          "metadata": {}
        },
        {
          "output_type": "display_data",
          "data": {
            "text/html": [
              ""
            ],
            "text/plain": [
              "<IPython.core.display.HTML object>"
            ]
          },
          "metadata": {}
        }
      ]
    },
    {
      "cell_type": "code",
      "source": [
        ""
      ],
      "metadata": {
        "id": "UFs4fsuXaDoy"
      },
      "execution_count": null,
      "outputs": []
    }
  ]
}